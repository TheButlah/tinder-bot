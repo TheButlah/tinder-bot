{
 "cells": [
  {
   "cell_type": "code",
   "execution_count": 1,
   "metadata": {},
   "outputs": [
    {
     "name": "stdout",
     "output_type": "stream",
     "text": [
      "Requirement already satisfied: pynder in /home/ryan/.anaconda3/lib/python3.7/site-packages (0.0.13)\n",
      "Requirement already satisfied: python-dateutil in /home/ryan/.anaconda3/lib/python3.7/site-packages (from pynder) (2.8.0)\n",
      "Requirement already satisfied: six in /home/ryan/.anaconda3/lib/python3.7/site-packages (from pynder) (1.12.0)\n",
      "Requirement already satisfied: cached-property in /home/ryan/.anaconda3/lib/python3.7/site-packages (from pynder) (1.5.1)\n",
      "Requirement already satisfied: requests in /home/ryan/.anaconda3/lib/python3.7/site-packages (from pynder) (2.21.0)\n",
      "Requirement already satisfied: certifi>=2017.4.17 in /home/ryan/.anaconda3/lib/python3.7/site-packages (from requests->pynder) (2019.3.9)\n",
      "Requirement already satisfied: idna<2.9,>=2.5 in /home/ryan/.anaconda3/lib/python3.7/site-packages (from requests->pynder) (2.8)\n",
      "Requirement already satisfied: chardet<3.1.0,>=3.0.2 in /home/ryan/.anaconda3/lib/python3.7/site-packages (from requests->pynder) (3.0.4)\n",
      "Requirement already satisfied: urllib3<1.25,>=1.21.1 in /home/ryan/.anaconda3/lib/python3.7/site-packages (from requests->pynder) (1.24.1)\n",
      "Requirement already satisfied: robobrowser in /home/ryan/.anaconda3/lib/python3.7/site-packages (0.5.3)\n",
      "Requirement already satisfied: Werkzeug>=0.10.4 in /home/ryan/.anaconda3/lib/python3.7/site-packages (from robobrowser) (0.14.1)\n",
      "Requirement already satisfied: beautifulsoup4>=4.3.2 in /home/ryan/.anaconda3/lib/python3.7/site-packages (from robobrowser) (4.7.1)\n",
      "Requirement already satisfied: six>=1.9.0 in /home/ryan/.anaconda3/lib/python3.7/site-packages (from robobrowser) (1.12.0)\n",
      "Requirement already satisfied: requests>=2.6.0 in /home/ryan/.anaconda3/lib/python3.7/site-packages (from robobrowser) (2.21.0)\n",
      "Requirement already satisfied: soupsieve>=1.2 in /home/ryan/.anaconda3/lib/python3.7/site-packages (from beautifulsoup4>=4.3.2->robobrowser) (1.8)\n",
      "Requirement already satisfied: certifi>=2017.4.17 in /home/ryan/.anaconda3/lib/python3.7/site-packages (from requests>=2.6.0->robobrowser) (2019.3.9)\n",
      "Requirement already satisfied: idna<2.9,>=2.5 in /home/ryan/.anaconda3/lib/python3.7/site-packages (from requests>=2.6.0->robobrowser) (2.8)\n",
      "Requirement already satisfied: chardet<3.1.0,>=3.0.2 in /home/ryan/.anaconda3/lib/python3.7/site-packages (from requests>=2.6.0->robobrowser) (3.0.4)\n",
      "Requirement already satisfied: urllib3<1.25,>=1.21.1 in /home/ryan/.anaconda3/lib/python3.7/site-packages (from requests>=2.6.0->robobrowser) (1.24.1)\n"
     ]
    }
   ],
   "source": [
    "!pip install robobrowser"
   ]
  },
  {
   "cell_type": "code",
   "execution_count": 2,
   "metadata": {},
   "outputs": [],
   "source": [
    "# Python 2-3 compatibility\n",
    "from __future__ import (absolute_import, division,\n",
    "                        print_function, unicode_literals)\n",
    "from builtins import *"
   ]
  },
  {
   "cell_type": "code",
   "execution_count": 3,
   "metadata": {},
   "outputs": [],
   "source": [
    "import requests\n",
    "from getpass import getpass\n",
    "from time import sleep"
   ]
  },
  {
   "cell_type": "code",
   "execution_count": 4,
   "metadata": {},
   "outputs": [],
   "source": [
    "import tinder_api as api\n",
    "import fb_auth_token as fb_auth\n",
    "import config"
   ]
  },
  {
   "cell_type": "code",
   "execution_count": 5,
   "metadata": {},
   "outputs": [
    {
     "name": "stdout",
     "output_type": "stream",
     "text": [
      "Enter your Facebook email and Password!\n",
      "Email:ilsagruber97@gmail.com\n",
      "Password:········\n",
      "You have been successfully authorized!\n"
     ]
    }
   ],
   "source": [
    "print('Enter your Facebook email and Password!')\n",
    "email = input(\"Email:\")\n",
    "password = getpass(\"Password:\")\n",
    "#email = \"rjbutler.throwaway1@gmail.com\"\n",
    "#password = \"throwaway1337\"\n",
    "\n",
    "fb_token = config.fb_access_token = fb_auth.get_fb_access_token(email, password)\n",
    "del password\n",
    "fb_id = config.fb_user_id = fb_auth.get_fb_id(fb_token)\n",
    "tinder_token = api.get_auth_token(fb_token, fb_id)"
   ]
  },
  {
   "cell_type": "code",
   "execution_count": 6,
   "metadata": {},
   "outputs": [],
   "source": [
    "def get_name(recs_result):\n",
    "    return recs_result['user']['name'].lower()"
   ]
  },
  {
   "cell_type": "code",
   "execution_count": 10,
   "metadata": {},
   "outputs": [],
   "source": [
    "def find_people(names, num_to_search, delay=0.5):\n",
    "    \"\"\"Find people on tinder by name\n",
    "    Args:\n",
    "        names: A list of strings to search for\n",
    "        num_to_search: The minimum number of people to search through\n",
    "        delay: The time in seconds between each request to tinder's servers.\n",
    "        \n",
    "    Returns: A tuple with a list of python dicts for each user that matched a name in `names`,\n",
    "        and the number of people searched.\n",
    "    \"\"\"\n",
    "    if isinstance(names, str):\n",
    "        raise ValueError(\"`names` should be an iterable!\")\n",
    "    names = set(n.lower() for n in names)\n",
    "    count = 0\n",
    "    results = []\n",
    "    while count < num_to_search:\n",
    "        response = requests.get(config.host+'/v2/recs/core?locale=en-US', headers=api.headers)\n",
    "        if not response.ok:\n",
    "            break\n",
    "        recs = response.json()[\"data\"][\"results\"]\n",
    "        \n",
    "        for rec in recs:\n",
    "            rec_name = get_name(rec)\n",
    "            if rec_name in names:\n",
    "                results.append(rec)\n",
    "        count += len(recs)\n",
    "        sleep(delay)\n",
    "    return results, count"
   ]
  },
  {
   "cell_type": "code",
   "execution_count": 13,
   "metadata": {},
   "outputs": [
    {
     "data": {
      "text/plain": [
       "([], 132)"
      ]
     },
     "execution_count": 13,
     "metadata": {},
     "output_type": "execute_result"
    }
   ],
   "source": [
    "results = find_people(['RJ'], 100)\n",
    "results"
   ]
  },
  {
   "cell_type": "code",
   "execution_count": null,
   "metadata": {},
   "outputs": [],
   "source": []
  }
 ],
 "metadata": {
  "kernelspec": {
   "display_name": "Python 3",
   "language": "python",
   "name": "python3"
  },
  "language_info": {
   "codemirror_mode": {
    "name": "ipython",
    "version": 3
   },
   "file_extension": ".py",
   "mimetype": "text/x-python",
   "name": "python",
   "nbconvert_exporter": "python",
   "pygments_lexer": "ipython3",
   "version": "3.7.3"
  }
 },
 "nbformat": 4,
 "nbformat_minor": 2
}
