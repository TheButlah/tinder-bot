{
 "cells": [
  {
   "cell_type": "code",
   "execution_count": null,
   "metadata": {},
   "outputs": [],
   "source": [
    "!pip install robobrowser"
   ]
  },
  {
   "cell_type": "code",
   "execution_count": null,
   "metadata": {},
   "outputs": [],
   "source": [
    "# Python 2-3 compatibility\n",
    "from __future__ import (absolute_import, division,\n",
    "                        print_function, unicode_literals)\n",
    "from builtins import *"
   ]
  },
  {
   "cell_type": "code",
   "execution_count": null,
   "metadata": {},
   "outputs": [],
   "source": [
    "import requests\n",
    "from getpass import getpass\n",
    "from time import sleep\n",
    "import json\n",
    "import re"
   ]
  },
  {
   "cell_type": "code",
   "execution_count": null,
   "metadata": {},
   "outputs": [],
   "source": [
    "import tinder_api as api\n",
    "import phone_auth"
   ]
  },
  {
   "cell_type": "code",
   "execution_count": null,
   "metadata": {},
   "outputs": [],
   "source": [
    "def format_phone(number):\n",
    "    \"\"\"Takes a string, strips the non-digits, and checks to see that it is international format.\"\"\"\n",
    "    number = str(number)\n",
    "    number = re.sub(r'\\D', '', number)  # remove non-digits with empy char\n",
    "    if len(number) > 13 or len(number) < 11:\n",
    "        raise ValueError('Number must be in international format!')\n",
    "    return number"
   ]
  },
  {
   "cell_type": "code",
   "execution_count": null,
   "metadata": {},
   "outputs": [],
   "source": [
    "print('Enter your phone number for the Tinder account, in international format. '\n",
    "      'Be sure that you have already set up the account and verified the number and email on Tinder!')\n",
    "\n",
    "phone_num = format_phone(input(\"Phone Number: \"))\n",
    "\n",
    "req_code = phone_auth.sendCode(phone_num)\n",
    "if req_code is False:\n",
    "    raise ValueError('There was an error when sending the phone number!')\n",
    "else:\n",
    "    print('Your request code is:', req_code)\n",
    "\n",
    "sms_tries = 0\n",
    "sms_success = False\n",
    "for sms_tries in range(3):\n",
    "        \n",
    "    sms_code = input(\"Please enter the code you've received by sms: \")\n",
    "    tinder_token = phone_auth.getToken(phone_num, sms_code, req_code)\n",
    "    if tinder_token is not None:\n",
    "        sms_success = True\n",
    "        api.headers.update({\"X-Auth-Token\": tinder_token})\n",
    "        break\n",
    "\n",
    "if not sms_success:\n",
    "    raise ValueError(\"SMS token incorrectly entered 3 times, run the cell again\")\n",
    "    \n",
    "print(\"Tinder token:\", tinder_token)"
   ]
  },
  {
   "cell_type": "code",
   "execution_count": null,
   "metadata": {},
   "outputs": [],
   "source": [
    "def get_name(recs_result):\n",
    "    \"\"\"Helper function to take ain item of the recommended users and convert them to a name.\"\"\"\n",
    "    return recs_result['user']['name'].lower()"
   ]
  },
  {
   "cell_type": "code",
   "execution_count": null,
   "metadata": {},
   "outputs": [],
   "source": [
    "def find_people(names, num_to_search, delay=0.5):\n",
    "    \"\"\"Find people on tinder by name\n",
    "    \n",
    "    Args:\n",
    "        names: A list of strings to search for\n",
    "        num_to_search: The minimum number of people to search through\n",
    "        delay: The time in seconds between each request to tinder's servers.\n",
    "        \n",
    "    Returns: A tuple with a list of python dicts for each user that matched a name in `names`,\n",
    "        and the number of people searched through.\n",
    "    \"\"\"\n",
    "    if isinstance(names, str):\n",
    "        raise ValueError(\"`names` should be an iterable!\")\n",
    "    names = set(n.lower() for n in names)\n",
    "    count = 0\n",
    "    results = []\n",
    "    while count < num_to_search:\n",
    "        try:\n",
    "            response = requests.get(api.host+'/v2/recs/core?locale=en-US', headers=api.headers)\n",
    "            if not response.ok:\n",
    "                break\n",
    "            print(response.json())\n",
    "            recs = response.json()[\"data\"][\"results\"]\n",
    "\n",
    "            for rec in recs:\n",
    "                rec_name = get_name(rec)\n",
    "                if rec_name in names:\n",
    "                    results.append(rec)\n",
    "            count += len(recs)\n",
    "            sleep(delay)\n",
    "        except Exception as e:\n",
    "            print(e)\n",
    "        \n",
    "    return results, count"
   ]
  },
  {
   "cell_type": "code",
   "execution_count": null,
   "metadata": {},
   "outputs": [],
   "source": [
    "def get_link_from_id(id):\n",
    "    \"\"\"Gets the sharable link for someone's profile. To view you must have the app. \n",
    "    Limited uses for each generated link.\"\"\"\n",
    "    response = requests.post(api.host + '/user/%s/share' % id, headers=api.headers)\n",
    "    if not response.ok:\n",
    "        return False\n",
    "    return response.json()['link']"
   ]
  },
  {
   "cell_type": "code",
   "execution_count": null,
   "metadata": {},
   "outputs": [],
   "source": [
    "def set_loc(lat, lon):\n",
    "    \"\"\"Returns whether the location was updated was successfully.\"\"\"\n",
    "    data = {'lat':lat, 'lon':lon}\n",
    "    response = requests.post(api.host + '/user/ping', headers=api.headers, data=json.dumps(data))\n",
    "    return response.ok"
   ]
  },
  {
   "cell_type": "code",
   "execution_count": null,
   "metadata": {},
   "outputs": [],
   "source": [
    "set_loc(42.4439614, -76.5018807)  # NYC"
   ]
  },
  {
   "cell_type": "code",
   "execution_count": null,
   "metadata": {},
   "outputs": [],
   "source": [
    "# this is easier to do in the app, but in case you want to do it from python, here it is\n",
    "api.change_preferences(age_filter_max=22, age_filter_min=24, distance_filter=5)"
   ]
  },
  {
   "cell_type": "code",
   "execution_count": null,
   "metadata": {},
   "outputs": [],
   "source": [
    "results, num_searched = find_people(['sarah'], 100)\n",
    "results, num_searched"
   ]
  },
  {
   "cell_type": "code",
   "execution_count": null,
   "metadata": {},
   "outputs": [],
   "source": [
    "# extract the user ids and sharable links from the results for future reference and easier viewing\n",
    "for r in results:\n",
    "    _id = r['user']['_id']\n",
    "    print('id:', _id, 'link:', get_link_from_id(_id))"
   ]
  },
  {
   "cell_type": "code",
   "execution_count": null,
   "metadata": {},
   "outputs": [],
   "source": [
    "get_link_from_id('5bf6d6d99c8a60df4b6c721c')"
   ]
  },
  {
   "cell_type": "code",
   "execution_count": null,
   "metadata": {},
   "outputs": [],
   "source": []
  }
 ],
 "metadata": {
  "kernelspec": {
   "display_name": "Python 3",
   "language": "python",
   "name": "python3"
  },
  "language_info": {
   "codemirror_mode": {
    "name": "ipython",
    "version": 3
   },
   "file_extension": ".py",
   "mimetype": "text/x-python",
   "name": "python",
   "nbconvert_exporter": "python",
   "pygments_lexer": "ipython3",
   "version": "3.7.3"
  }
 },
 "nbformat": 4,
 "nbformat_minor": 2
}
