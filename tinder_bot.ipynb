{
 "cells": [
  {
   "cell_type": "code",
   "execution_count": 1,
   "metadata": {},
   "outputs": [
    {
     "name": "stdout",
     "output_type": "stream",
     "text": [
      "Requirement already satisfied: robobrowser in /home/ryan/.anaconda3/lib/python3.7/site-packages (0.5.3)\n",
      "Requirement already satisfied: beautifulsoup4>=4.3.2 in /home/ryan/.anaconda3/lib/python3.7/site-packages (from robobrowser) (4.7.1)\n",
      "Requirement already satisfied: Werkzeug>=0.10.4 in /home/ryan/.anaconda3/lib/python3.7/site-packages (from robobrowser) (0.14.1)\n",
      "Requirement already satisfied: six>=1.9.0 in /home/ryan/.anaconda3/lib/python3.7/site-packages (from robobrowser) (1.12.0)\n",
      "Requirement already satisfied: requests>=2.6.0 in /home/ryan/.anaconda3/lib/python3.7/site-packages (from robobrowser) (2.21.0)\n",
      "Requirement already satisfied: soupsieve>=1.2 in /home/ryan/.anaconda3/lib/python3.7/site-packages (from beautifulsoup4>=4.3.2->robobrowser) (1.8)\n",
      "Requirement already satisfied: idna<2.9,>=2.5 in /home/ryan/.anaconda3/lib/python3.7/site-packages (from requests>=2.6.0->robobrowser) (2.8)\n",
      "Requirement already satisfied: urllib3<1.25,>=1.21.1 in /home/ryan/.anaconda3/lib/python3.7/site-packages (from requests>=2.6.0->robobrowser) (1.24.1)\n",
      "Requirement already satisfied: chardet<3.1.0,>=3.0.2 in /home/ryan/.anaconda3/lib/python3.7/site-packages (from requests>=2.6.0->robobrowser) (3.0.4)\n",
      "Requirement already satisfied: certifi>=2017.4.17 in /home/ryan/.anaconda3/lib/python3.7/site-packages (from requests>=2.6.0->robobrowser) (2019.3.9)\n"
     ]
    }
   ],
   "source": [
    "!pip install robobrowser"
   ]
  },
  {
   "cell_type": "code",
   "execution_count": 2,
   "metadata": {},
   "outputs": [],
   "source": [
    "# Python 2-3 compatibility\n",
    "from __future__ import (absolute_import, division,\n",
    "                        print_function, unicode_literals)\n",
    "from builtins import *"
   ]
  },
  {
   "cell_type": "code",
   "execution_count": 3,
   "metadata": {},
   "outputs": [],
   "source": [
    "import requests\n",
    "from getpass import getpass\n",
    "from time import sleep\n",
    "import json"
   ]
  },
  {
   "cell_type": "code",
   "execution_count": 16,
   "metadata": {},
   "outputs": [],
   "source": [
    "import tinder_api as api\n",
    "import phone_auth"
   ]
  },
  {
   "cell_type": "code",
   "execution_count": 10,
   "metadata": {},
   "outputs": [
    {
     "name": "stdout",
     "output_type": "stream",
     "text": [
      "Enter your phone number for the Tinder account, in international format. Be sure that you have already set up the account and verified the number and email on Tinder!\n",
      "Phone Number: 16072695182\n"
     ]
    },
    {
     "name": "stderr",
     "output_type": "stream",
     "text": [
      "/home/ryan/.anaconda3/lib/python3.7/site-packages/urllib3/connectionpool.py:847: InsecureRequestWarning: Unverified HTTPS request is being made. Adding certificate verification is strongly advised. See: https://urllib3.readthedocs.io/en/latest/advanced-usage.html#ssl-warnings\n",
      "  InsecureRequestWarning)\n"
     ]
    },
    {
     "name": "stdout",
     "output_type": "stream",
     "text": [
      "https://graph.accountkit.com/v1.2/start_login?access_token=AA%7C464891386855067%7Cd1891abb4b0bcdfa0580d9b839f4a522&credentials_type=phone_number&fb_app_events_enabled=1&fields=privacy_policy%2Cterms_of_service&locale=fr_FR&phone_number=16072695182&response_type=token&sdk=ios\n",
      "req_code d3b04ee4dd5304a6674d8fadac9d5041\n",
      "Please enter the code you've received by sms: 235628\n"
     ]
    },
    {
     "name": "stderr",
     "output_type": "stream",
     "text": [
      "/home/ryan/.anaconda3/lib/python3.7/site-packages/urllib3/connectionpool.py:847: InsecureRequestWarning: Unverified HTTPS request is being made. Adding certificate verification is strongly advised. See: https://urllib3.readthedocs.io/en/latest/advanced-usage.html#ssl-warnings\n",
      "  InsecureRequestWarning)\n"
     ]
    },
    {
     "name": "stdout",
     "output_type": "stream",
     "text": [
      "Tinder token :c4abb176-c986-4a6d-9ada-c8ce0fa7c1c9\n"
     ]
    },
    {
     "name": "stderr",
     "output_type": "stream",
     "text": [
      "/home/ryan/.anaconda3/lib/python3.7/site-packages/urllib3/connectionpool.py:847: InsecureRequestWarning: Unverified HTTPS request is being made. Adding certificate verification is strongly advised. See: https://urllib3.readthedocs.io/en/latest/advanced-usage.html#ssl-warnings\n",
      "  InsecureRequestWarning)\n"
     ]
    }
   ],
   "source": [
    "print('Enter your phone number for the Tinder account, in international format. '\n",
    "      'Be sure that you have already set up the account and verified the number and email on Tinder!')\n",
    "\n",
    "phone_num = input(\"Phone Number: \")\n",
    "\n",
    "req_code = phone_auth.sendCode(phone_num)\n",
    "print('req_code', req_code)\n",
    "\n",
    "sms_tries = 0\n",
    "sms_success = False\n",
    "while not sms_success:\n",
    "    if sms_tries == 3:\n",
    "        raise ValueError('SMS token incorrectly entered 3 times, run the cell again')\n",
    "    sms_code = input(\"Please enter the code you've received by sms: \")\n",
    "    tinder_token = phone_auth.getToken(phone_num, sms_code, req_code)\n",
    "    if tinder_\n",
    "    sms_tries += 1\n",
    "    \n",
    "print(\"Tinder token :\" + tinder_token)"
   ]
  },
  {
   "cell_type": "code",
   "execution_count": null,
   "metadata": {},
   "outputs": [],
   "source": [
    "def get_name(recs_result):\n",
    "    \"\"\"Helper function to take ain item of the recommended users and convert them to a name.\"\"\"\n",
    "    return recs_result['user']['name'].lower()"
   ]
  },
  {
   "cell_type": "code",
   "execution_count": 17,
   "metadata": {},
   "outputs": [],
   "source": [
    "def find_people(names, num_to_search, delay=0.5):\n",
    "    \"\"\"Find people on tinder by name\n",
    "    \n",
    "    Args:\n",
    "        names: A list of strings to search for\n",
    "        num_to_search: The minimum number of people to search through\n",
    "        delay: The time in seconds between each request to tinder's servers.\n",
    "        \n",
    "    Returns: A tuple with a list of python dicts for each user that matched a name in `names`,\n",
    "        and the number of people searched through.\n",
    "    \"\"\"\n",
    "    if isinstance(names, str):\n",
    "        raise ValueError(\"`names` should be an iterable!\")\n",
    "    names = set(n.lower() for n in names)\n",
    "    count = 0\n",
    "    results = []\n",
    "    while count < num_to_search:\n",
    "        try:\n",
    "            response = requests.get(api.host+'/v2/recs/core?locale=en-US', headers=api.headers)\n",
    "            if not response.ok:\n",
    "                break\n",
    "            print(response.json())\n",
    "            recs = response.json()[\"data\"][\"results\"]\n",
    "\n",
    "            for rec in recs:\n",
    "                rec_name = get_name(rec)\n",
    "                if rec_name in names:\n",
    "                    results.append(rec)\n",
    "            count += len(recs)\n",
    "            sleep(delay)\n",
    "        except Exception as e:\n",
    "            print(e)\n",
    "        \n",
    "    return results, count"
   ]
  },
  {
   "cell_type": "code",
   "execution_count": 18,
   "metadata": {},
   "outputs": [],
   "source": [
    "def get_link_from_id(id):\n",
    "    \"\"\"Gets the sharable link for someone's profile. To view you must have the app. \n",
    "    Limited uses for each generated link.\"\"\"\n",
    "    response = requests.post(api.host + '/user/%s/share' % id, headers=api.headers)\n",
    "    if not response.ok:\n",
    "        return None\n",
    "    return response.json()['link']"
   ]
  },
  {
   "cell_type": "code",
   "execution_count": 19,
   "metadata": {},
   "outputs": [],
   "source": [
    "def set_loc(lat, lon):\n",
    "    \"\"\"Returns whether the location was updated was successfully.\"\"\"\n",
    "    data = {'lat':lat, 'lon':lon}\n",
    "    response = requests.post(api.host + '/user/ping', headers=api.headers, data=json.dumps(data))\n",
    "    return response.ok"
   ]
  },
  {
   "cell_type": "code",
   "execution_count": 20,
   "metadata": {},
   "outputs": [
    {
     "data": {
      "text/plain": [
       "False"
      ]
     },
     "execution_count": 20,
     "metadata": {},
     "output_type": "execute_result"
    }
   ],
   "source": [
    "set_loc(42.4426977,-76.5333944)  # NYC"
   ]
  },
  {
   "cell_type": "code",
   "execution_count": null,
   "metadata": {},
   "outputs": [],
   "source": [
    "# this is easier to do in the app, but in case you want to do it from python, here it is\n",
    "api.change_preferences(age_filter_max=21, age_filter_min=22, distance_filter=2)"
   ]
  },
  {
   "cell_type": "code",
   "execution_count": null,
   "metadata": {},
   "outputs": [],
   "source": [
    "results, num_searched = find_people(['sarah'], 1000)\n",
    "results, num_searched"
   ]
  },
  {
   "cell_type": "code",
   "execution_count": null,
   "metadata": {},
   "outputs": [],
   "source": [
    "# extract the user ids and sharable links from the results for future reference and easier viewing\n",
    "for r in results:\n",
    "    _id = r['user']['_id']\n",
    "    print('id:', _id, 'link:', get_link_from_id(_id))"
   ]
  },
  {
   "cell_type": "code",
   "execution_count": null,
   "metadata": {},
   "outputs": [],
   "source": []
  }
 ],
 "metadata": {
  "kernelspec": {
   "display_name": "Python 3",
   "language": "python",
   "name": "python3"
  },
  "language_info": {
   "codemirror_mode": {
    "name": "ipython",
    "version": 3
   },
   "file_extension": ".py",
   "mimetype": "text/x-python",
   "name": "python",
   "nbconvert_exporter": "python",
   "pygments_lexer": "ipython3",
   "version": "3.7.3"
  }
 },
 "nbformat": 4,
 "nbformat_minor": 2
}
