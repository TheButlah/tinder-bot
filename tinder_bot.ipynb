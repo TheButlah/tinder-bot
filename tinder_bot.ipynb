{
 "cells": [
  {
   "cell_type": "code",
   "execution_count": 1,
   "metadata": {},
   "outputs": [
    {
     "name": "stdout",
     "output_type": "stream",
     "text": [
      "Requirement already satisfied: robobrowser in /home/ryan/.anaconda3/lib/python3.7/site-packages (0.5.3)\n",
      "Requirement already satisfied: Werkzeug>=0.10.4 in /home/ryan/.anaconda3/lib/python3.7/site-packages (from robobrowser) (0.14.1)\n",
      "Requirement already satisfied: requests>=2.6.0 in /home/ryan/.anaconda3/lib/python3.7/site-packages (from robobrowser) (2.21.0)\n",
      "Requirement already satisfied: beautifulsoup4>=4.3.2 in /home/ryan/.anaconda3/lib/python3.7/site-packages (from robobrowser) (4.7.1)\n",
      "Requirement already satisfied: six>=1.9.0 in /home/ryan/.anaconda3/lib/python3.7/site-packages (from robobrowser) (1.12.0)\n",
      "Requirement already satisfied: certifi>=2017.4.17 in /home/ryan/.anaconda3/lib/python3.7/site-packages (from requests>=2.6.0->robobrowser) (2019.3.9)\n",
      "Requirement already satisfied: idna<2.9,>=2.5 in /home/ryan/.anaconda3/lib/python3.7/site-packages (from requests>=2.6.0->robobrowser) (2.8)\n",
      "Requirement already satisfied: urllib3<1.25,>=1.21.1 in /home/ryan/.anaconda3/lib/python3.7/site-packages (from requests>=2.6.0->robobrowser) (1.24.1)\n",
      "Requirement already satisfied: chardet<3.1.0,>=3.0.2 in /home/ryan/.anaconda3/lib/python3.7/site-packages (from requests>=2.6.0->robobrowser) (3.0.4)\n",
      "Requirement already satisfied: soupsieve>=1.2 in /home/ryan/.anaconda3/lib/python3.7/site-packages (from beautifulsoup4>=4.3.2->robobrowser) (1.8)\n"
     ]
    }
   ],
   "source": [
    "!pip install robobrowser"
   ]
  },
  {
   "cell_type": "code",
   "execution_count": 2,
   "metadata": {},
   "outputs": [],
   "source": [
    "# Python 2-3 compatibility\n",
    "from __future__ import (absolute_import, division,\n",
    "                        print_function, unicode_literals)\n",
    "from builtins import *"
   ]
  },
  {
   "cell_type": "code",
   "execution_count": 3,
   "metadata": {},
   "outputs": [],
   "source": [
    "import requests\n",
    "from getpass import getpass\n",
    "from time import sleep\n",
    "import json"
   ]
  },
  {
   "cell_type": "code",
   "execution_count": 4,
   "metadata": {},
   "outputs": [],
   "source": [
    "import tinder_api as api\n",
    "import phone_auth"
   ]
  },
  {
   "cell_type": "code",
   "execution_count": 23,
   "metadata": {},
   "outputs": [
    {
     "name": "stdout",
     "output_type": "stream",
     "text": [
      "Enter your phone number for the Tinder account, in international format. Be sure that you have already set up the account and verified the number and email on Tinder!\n"
     ]
    },
    {
     "name": "stderr",
     "output_type": "stream",
     "text": [
      "/home/ryan/.anaconda3/lib/python3.7/site-packages/urllib3/connectionpool.py:847: InsecureRequestWarning: Unverified HTTPS request is being made. Adding certificate verification is strongly advised. See: https://urllib3.readthedocs.io/en/latest/advanced-usage.html#ssl-warnings\n",
      "  InsecureRequestWarning)\n"
     ]
    },
    {
     "name": "stdout",
     "output_type": "stream",
     "text": [
      "https://graph.accountkit.com/v1.2/start_login?access_token=AA%7C464891386855067%7Cd1891abb4b0bcdfa0580d9b839f4a522&credentials_type=phone_number&fb_app_events_enabled=1&fields=privacy_policy%2Cterms_of_service&locale=en_US&phone_number=16072695182&response_type=token&sdk=ios\n",
      "Your request code is: 0a02c6bc08c48dfa083f4348c20fb0ad\n",
      "Please enter the code you've received by sms: 805811\n"
     ]
    },
    {
     "name": "stderr",
     "output_type": "stream",
     "text": [
      "/home/ryan/.anaconda3/lib/python3.7/site-packages/urllib3/connectionpool.py:847: InsecureRequestWarning: Unverified HTTPS request is being made. Adding certificate verification is strongly advised. See: https://urllib3.readthedocs.io/en/latest/advanced-usage.html#ssl-warnings\n",
      "  InsecureRequestWarning)\n",
      "/home/ryan/.anaconda3/lib/python3.7/site-packages/urllib3/connectionpool.py:847: InsecureRequestWarning: Unverified HTTPS request is being made. Adding certificate verification is strongly advised. See: https://urllib3.readthedocs.io/en/latest/advanced-usage.html#ssl-warnings\n",
      "  InsecureRequestWarning)\n"
     ]
    },
    {
     "ename": "NameError",
     "evalue": "name 'headers' is not defined",
     "output_type": "error",
     "traceback": [
      "\u001b[0;31m---------------------------------------------------------------------------\u001b[0m",
      "\u001b[0;31mNameError\u001b[0m                                 Traceback (most recent call last)",
      "\u001b[0;32m<ipython-input-23-ca22b671d24e>\u001b[0m in \u001b[0;36m<module>\u001b[0;34m\u001b[0m\n\u001b[1;32m     19\u001b[0m     \u001b[0;32mif\u001b[0m \u001b[0mtinder_token\u001b[0m \u001b[0;32mis\u001b[0m \u001b[0;32mnot\u001b[0m \u001b[0;32mNone\u001b[0m\u001b[0;34m:\u001b[0m\u001b[0;34m\u001b[0m\u001b[0;34m\u001b[0m\u001b[0m\n\u001b[1;32m     20\u001b[0m         \u001b[0msms_success\u001b[0m \u001b[0;34m=\u001b[0m \u001b[0;32mTrue\u001b[0m\u001b[0;34m\u001b[0m\u001b[0;34m\u001b[0m\u001b[0m\n\u001b[0;32m---> 21\u001b[0;31m         \u001b[0mheaders\u001b[0m\u001b[0;34m.\u001b[0m\u001b[0mupdate\u001b[0m\u001b[0;34m(\u001b[0m\u001b[0;34m{\u001b[0m\u001b[0;34m\"X-Auth-Token\"\u001b[0m\u001b[0;34m:\u001b[0m \u001b[0mtinder_token\u001b[0m\u001b[0;34m}\u001b[0m\u001b[0;34m)\u001b[0m\u001b[0;34m\u001b[0m\u001b[0;34m\u001b[0m\u001b[0m\n\u001b[0m\u001b[1;32m     22\u001b[0m         \u001b[0;32mbreak\u001b[0m\u001b[0;34m\u001b[0m\u001b[0;34m\u001b[0m\u001b[0m\n\u001b[1;32m     23\u001b[0m \u001b[0;34m\u001b[0m\u001b[0m\n",
      "\u001b[0;31mNameError\u001b[0m: name 'headers' is not defined"
     ]
    }
   ],
   "source": [
    "print('Enter your phone number for the Tinder account, in international format. '\n",
    "      'Be sure that you have already set up the account and verified the number and email on Tinder!')\n",
    "\n",
    "phone_num = input(\"Phone Number: \")\n",

    "\n",
    "req_code = phone_auth.sendCode(phone_num)\n",
    "if req_code is False:\n",
    "    raise ValueError('There was an error when sending the phone number!')\n",
    "else:\n",
    "    print('Your request code is:', req_code)\n",
    "\n",
    "sms_tries = 0\n",
    "sms_success = False\n",
    "for sms_tries in range(3):\n",
    "        \n",
    "    sms_code = input(\"Please enter the code you've received by sms: \")\n",
    "    tinder_token = phone_auth.getToken(phone_num, sms_code, req_code)\n",
    "    if tinder_token is not None:\n",
    "        sms_success = True\n",
    "        api.headers.update({\"X-Auth-Token\": tinder_token})\n",
    "        break\n",
    "\n",
    "if not sms_success:\n",
    "    raise ValueError(\"SMS token incorrectly entered 3 times, run the cell again\")\n",
    "    \n",
    "print(\"Tinder token:\", tinder_token)"
   ]
  },
  {
   "cell_type": "code",
   "execution_count": 14,
   "metadata": {},
   "outputs": [],
   "source": [
    "def get_name(recs_result):\n",
    "    \"\"\"Helper function to take ain item of the recommended users and convert them to a name.\"\"\"\n",
    "    return recs_result['user']['name'].lower()"
   ]
  },
  {
   "cell_type": "code",
   "execution_count": 15,
   "metadata": {},
   "outputs": [],
   "source": [
    "def find_people(names, num_to_search, delay=0.5):\n",
    "    \"\"\"Find people on tinder by name\n",
    "    \n",
    "    Args:\n",
    "        names: A list of strings to search for\n",
    "        num_to_search: The minimum number of people to search through\n",
    "        delay: The time in seconds between each request to tinder's servers.\n",
    "        \n",
    "    Returns: A tuple with a list of python dicts for each user that matched a name in `names`,\n",
    "        and the number of people searched through.\n",
    "    \"\"\"\n",
    "    if isinstance(names, str):\n",
    "        raise ValueError(\"`names` should be an iterable!\")\n",
    "    names = set(n.lower() for n in names)\n",
    "    count = 0\n",
    "    results = []\n",
    "    while count < num_to_search:\n",
    "        try:\n",
    "            response = requests.get(api.host+'/v2/recs/core?locale=en-US', headers=api.headers)\n",
    "            if not response.ok:\n",
    "                break\n",
    "            print(response.json())\n",
    "            recs = response.json()[\"data\"][\"results\"]\n",
    "\n",
    "            for rec in recs:\n",
    "                rec_name = get_name(rec)\n",
    "                if rec_name in names:\n",
    "                    results.append(rec)\n",
    "            count += len(recs)\n",
    "            sleep(delay)\n",
    "        except Exception as e:\n",
    "            print(e)\n",
    "        \n",
    "    return results, count"
   ]
  },
  {
   "cell_type": "code",
   "execution_count": 16,
   "metadata": {},
   "outputs": [],
   "source": [
    "def get_link_from_id(id):\n",
    "    \"\"\"Gets the sharable link for someone's profile. To view you must have the app. \n",
    "    Limited uses for each generated link.\"\"\"\n",
    "    response = requests.post(api.host + '/user/%s/share' % id, headers=api.headers)\n",
    "    if not response.ok:\n",
    "        return None\n",
    "    return response.json()['link']"
   ]
  },
  {
   "cell_type": "code",
   "execution_count": 21,
   "metadata": {},
   "outputs": [],
   "source": [
    "def set_loc(lat, lon):\n",
    "    \"\"\"Returns whether the location was updated was successfully.\"\"\"\n",
    "    data = {'lat':lat, 'lon':lon}\n",
    "    response = requests.post(api.host + '/user/ping', headers=api.headers, data=json.dumps(data))\n",
    "    return response.ok"
   ]
  },
  {
   "cell_type": "code",
   "execution_count": 25,
   "metadata": {},
   "outputs": [
    {
     "data": {
      "text/plain": [
       "True"
      ]
     },
     "execution_count": 25,
     "metadata": {},
     "output_type": "execute_result"
    }
   ],
   "source": [
    "set_loc(42.4426977,-76.5333944)  # NYC"
   ]
  },
  {
   "cell_type": "code",
   "execution_count": 11,
   "metadata": {},
   "outputs": [
    {
     "data": {
      "text/plain": [
       "{'meta': {'status': 400}, 'error': {'code': 41002}}"
      ]
     },
     "execution_count": 11,
     "metadata": {},
     "output_type": "execute_result"
    }
   ],
   "source": [
    "# this is easier to do in the app, but in case you want to do it from python, here it is\n",
    "api.change_preferences(age_filter_max=21, age_filter_min=22, distance_filter=2)"
   ]
  },
  {
   "cell_type": "code",
   "execution_count": 12,
   "metadata": {},
   "outputs": [
    {
     "data": {
      "text/plain": [
       "([], 0)"
      ]
     },
     "execution_count": 12,
     "metadata": {},
     "output_type": "execute_result"
    }
   ],
   "source": [
    "results, num_searched = find_people(['sarah'], 1000)\n",
    "results, num_searched"
   ]
  },
  {
   "cell_type": "code",
   "execution_count": 13,
   "metadata": {},
   "outputs": [],
   "source": [
    "# extract the user ids and sharable links from the results for future reference and easier viewing\n",
    "for r in results:\n",
    "    _id = r['user']['_id']\n",
    "    print('id:', _id, 'link:', get_link_from_id(_id))"
   ]
  },
  {
   "cell_type": "code",
   "execution_count": null,
   "metadata": {},
   "outputs": [],
   "source": []
  }
 ],
 "metadata": {
  "kernelspec": {
   "display_name": "Python 3",
   "language": "python",
   "name": "python3"
  },
  "language_info": {
   "codemirror_mode": {
    "name": "ipython",
    "version": 3
   },
   "file_extension": ".py",
   "mimetype": "text/x-python",
   "name": "python",
   "nbconvert_exporter": "python",
   "pygments_lexer": "ipython3",
   "version": "3.7.3"
  }
 },
 "nbformat": 4,
 "nbformat_minor": 2
}
